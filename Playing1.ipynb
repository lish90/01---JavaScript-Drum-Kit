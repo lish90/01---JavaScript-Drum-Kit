{
  "nbformat": 4,
  "nbformat_minor": 0,
  "metadata": {
    "colab": {
      "provenance": [],
      "authorship_tag": "ABX9TyOJSKdSrGq+xmTCGM0wLWNl",
      "include_colab_link": true
    },
    "kernelspec": {
      "name": "python3",
      "display_name": "Python 3"
    },
    "language_info": {
      "name": "python"
    }
  },
  "cells": [
    {
      "cell_type": "markdown",
      "metadata": {
        "id": "view-in-github",
        "colab_type": "text"
      },
      "source": [
        "<a href=\"https://colab.research.google.com/github/lish90/data-engineering-practice/blob/update_1/Playing1.ipynb\" target=\"_parent\"><img src=\"https://colab.research.google.com/assets/colab-badge.svg\" alt=\"Open In Colab\"/></a>"
      ]
    },
    {
      "cell_type": "code",
      "execution_count": null,
      "metadata": {
        "id": "5XjnB0G3mk-C"
      },
      "outputs": [],
      "source": []
    },
    {
      "cell_type": "code",
      "source": [
        "print(\"hello world\")"
      ],
      "metadata": {
        "colab": {
          "base_uri": "https://localhost:8080/"
        },
        "id": "XAvJxouAnReC",
        "outputId": "b4afd193-97d5-4b21-d756-50c08bf8ea05"
      },
      "execution_count": 2,
      "outputs": [
        {
          "output_type": "stream",
          "name": "stdout",
          "text": [
            "hello world\n"
          ]
        }
      ]
    },
    {
      "cell_type": "markdown",
      "source": [
        "3. Variables - Practicals"
      ],
      "metadata": {
        "id": "ufQo-RQBnrS6"
      }
    },
    {
      "cell_type": "markdown",
      "source": [],
      "metadata": {
        "id": "hu0lOfwzny8E"
      }
    },
    {
      "cell_type": "markdown",
      "source": [
        "TASK\n",
        "\n",
        "\n",
        "Define a variable called my_variable and assign it the value 23\n",
        "Print the value of my_variable\n",
        "Write a new line of code that reassigns my_variable to have the value 98\n",
        "Print the value of my_variable again\n",
        "Notice that the value of my_variable has changed.\n"
      ],
      "metadata": {
        "id": "ayjdrnKOsnCt"
      }
    },
    {
      "cell_type": "code",
      "source": [
        "my_variable =23\n",
        "print(my_variable)\n",
        "my_variable = 98\n",
        "print(my_variable)"
      ],
      "metadata": {
        "colab": {
          "base_uri": "https://localhost:8080/"
        },
        "id": "MfjIjmjzn2Z8",
        "outputId": "568bc6be-2fd0-4f00-a44c-9eb142f93660"
      },
      "execution_count": 3,
      "outputs": [
        {
          "output_type": "stream",
          "name": "stdout",
          "text": [
            "23\n",
            "98\n"
          ]
        }
      ]
    },
    {
      "cell_type": "markdown",
      "source": [
        "TASK 2\n",
        "\n",
        "Define the the following variables num = 23, text_num = \"57\" and decimal_num = 98.3\n",
        "Print the types of each variable (hint: use the type() function)"
      ],
      "metadata": {
        "id": "hnDk7ELft56J"
      }
    },
    {
      "cell_type": "code",
      "source": [
        "num = 23\n",
        "text_num =\"57\"\n",
        "decimal_num = 98.3\n",
        "print(type(num))\n",
        "print(type(text_num))\n",
        "print(type(decimal_num))"
      ],
      "metadata": {
        "colab": {
          "base_uri": "https://localhost:8080/"
        },
        "id": "rrIhAibsuNgC",
        "outputId": "fdb0fc3f-79a8-48c0-ad05-f0876e11d2ef"
      },
      "execution_count": 2,
      "outputs": [
        {
          "output_type": "stream",
          "name": "stdout",
          "text": [
            "<class 'int'>\n",
            "<class 'str'>\n",
            "<class 'float'>\n"
          ]
        }
      ]
    },
    {
      "cell_type": "markdown",
      "source": [
        "TASK 3 Comments - Practicals"
      ],
      "metadata": {
        "id": "v4k0Ls87ARU_"
      }
    },
    {
      "cell_type": "code",
      "source": [
        "# This is a comment"
      ],
      "metadata": {
        "id": "wh3GJB5HAWog"
      },
      "execution_count": 1,
      "outputs": []
    },
    {
      "cell_type": "code",
      "source": [
        "# %%\n",
        "print(\"cats dont work\")\n",
        "\n",
        "#  %%"
      ],
      "metadata": {
        "colab": {
          "base_uri": "https://localhost:8080/"
        },
        "id": "tGyl2jckAW29",
        "outputId": "f5564a85-85b5-4818-c807-70a3e1292e94"
      },
      "execution_count": 2,
      "outputs": [
        {
          "output_type": "stream",
          "name": "stdout",
          "text": [
            "cats dont work\n"
          ]
        }
      ]
    },
    {
      "cell_type": "code",
      "source": [
        "result = 15//3\n",
        "print(result)"
      ],
      "metadata": {
        "colab": {
          "base_uri": "https://localhost:8080/"
        },
        "id": "uDtWFDrXCbaE",
        "outputId": "9df7e5ea-7586-434e-9fac-75cfbcfb19c0"
      },
      "execution_count": 3,
      "outputs": [
        {
          "output_type": "stream",
          "name": "stdout",
          "text": [
            "5\n"
          ]
        }
      ]
    },
    {
      "cell_type": "code",
      "source": [
        "# reminder\n",
        "\n",
        "17 % 3"
      ],
      "metadata": {
        "colab": {
          "base_uri": "https://localhost:8080/"
        },
        "id": "LMqnl_O1Cxm8",
        "outputId": "23b7323d-ae13-4cbf-e19b-cc430e499894"
      },
      "execution_count": 4,
      "outputs": [
        {
          "output_type": "execute_result",
          "data": {
            "text/plain": [
              "2"
            ]
          },
          "metadata": {},
          "execution_count": 4
        }
      ]
    },
    {
      "cell_type": "markdown",
      "source": [
        "TASK 4 - Number\n",
        "\n",
        "\n",
        "Define a variable called a and assign it the value 5\n",
        "Define a variable called b and assign it the value 2\n",
        "Print the result of a + b\n",
        "Print the result of a - b\n",
        "Print the result of a * b\n",
        "Print the result of a / b"
      ],
      "metadata": {
        "id": "KHTxxI-iHNVq"
      }
    },
    {
      "cell_type": "code",
      "source": [
        "a = 5\n",
        "b = 2\n",
        "print(a + b)\n",
        "print( a-b)\n",
        "print( a*b)\n",
        "print( a/b)"
      ],
      "metadata": {
        "colab": {
          "base_uri": "https://localhost:8080/"
        },
        "id": "rAaMw-XdHVrh",
        "outputId": "5cc39328-870d-4cd5-9310-b7b362ec4473"
      },
      "execution_count": 5,
      "outputs": [
        {
          "output_type": "stream",
          "name": "stdout",
          "text": [
            "7\n",
            "3\n",
            "10\n",
            "2.5\n"
          ]
        }
      ]
    },
    {
      "cell_type": "markdown",
      "source": [
        "TASK 4b - Number\n",
        "\n",
        "* Define a variable called a and assign it the value 5\n",
        "* Define a variable called b and assign it the value 2\n",
        "* Print the type of a\n",
        "* Print the type of b\n",
        "* Define a variable called c and assign it the value of a / b\n",
        "* Print the type of c\n",
        "* What happened?\n",
        "* Define a variable called d and assign it the value of a // b\n",
        "* Print the type of d\n",
        "* What happened?\n"
      ],
      "metadata": {
        "id": "uBpNNjWVHhlt"
      }
    },
    {
      "cell_type": "code",
      "source": [
        "a = 5\n",
        "b = 2\n",
        "print(a)\n",
        "print(b)\n",
        "c = a/b\n",
        "print(c)\n",
        "# resulted in a float\n",
        "d = a //b\n",
        "print(d)\n",
        "# gave how time 2 goes into 5"
      ],
      "metadata": {
        "colab": {
          "base_uri": "https://localhost:8080/"
        },
        "id": "h7CTQn09Hkl8",
        "outputId": "1badbf55-7d7f-4e4f-d261-f7bb44b47efe"
      },
      "execution_count": 6,
      "outputs": [
        {
          "output_type": "stream",
          "name": "stdout",
          "text": [
            "5\n",
            "2\n",
            "2.5\n",
            "2\n"
          ]
        }
      ]
    },
    {
      "cell_type": "markdown",
      "source": [
        "TASK 5 Strings - Practicals\n",
        "\n",
        "\n",
        "1.   Create a variable called my_string and assign it the value \"Hello World\"\n",
        "2. Print the value of my_string\n",
        "3. Print the type of my_string.\n",
        "4. Create a variable called my_string and assign it the value \"Hello \\nWorld\".\n",
        "5. Print the value of my_string.\n",
        "6. Create a variable called my_string and assign it the value \"Hello \\tWorld\".\n",
        "7. Print the value of my_string.\n",
        "\n"
      ],
      "metadata": {
        "id": "ITI_NfdASyaO"
      }
    },
    {
      "cell_type": "code",
      "source": [
        "my_string = \"Hello World\"\n",
        "print(my_string)\n",
        "print(type(my_string))\n",
        "my_string = \"Hello \\nWorld\"\n",
        "print(my_string)\n",
        "my_string = \"Hello \\tWorld\"\n",
        "print(my_string)"
      ],
      "metadata": {
        "colab": {
          "base_uri": "https://localhost:8080/"
        },
        "id": "v5t1WRKsTZnl",
        "outputId": "9f076228-2933-48a4-cf94-7fbc82bf88f6"
      },
      "execution_count": 7,
      "outputs": [
        {
          "output_type": "stream",
          "name": "stdout",
          "text": [
            "Hello World\n",
            "<class 'str'>\n",
            "Hello \n",
            "World\n",
            "Hello \tWorld\n"
          ]
        }
      ]
    },
    {
      "cell_type": "markdown",
      "source": [
        "TASK 5B\n",
        "1. Create a variable called my_string and assign it the value \"Hello \"World\", including the \" quotes around World inside the string definition\n",
        "2. Create a variable called my_string and assign it the value \"Hello 'World'\". Then print it. Did it work?\n",
        "3. Create a variable called my_string and assign it the value \"Hello \\\"World\"\""
      ],
      "metadata": {
        "id": "aTIVXbRPU8Fu"
      }
    },
    {
      "cell_type": "code",
      "source": [
        "my_string  = \"Hello \\\"World\"\n",
        "print(my_string)\n",
        "my_string = \"Hello 'World'\"\n",
        "# using single quote\n",
        "print(my_string)\n",
        "my_string = \"Hello \\\"World\\\"\"\n",
        "print(my_string)"
      ],
      "metadata": {
        "colab": {
          "base_uri": "https://localhost:8080/"
        },
        "id": "Ijmnhz9AVL4R",
        "outputId": "652d8abe-b86b-4323-c943-1dde9b61dcad"
      },
      "execution_count": 12,
      "outputs": [
        {
          "output_type": "stream",
          "name": "stdout",
          "text": [
            "Hello \"World\n",
            "Hello 'World'\n",
            "Hello \"World\"\n"
          ]
        }
      ]
    },
    {
      "cell_type": "markdown",
      "source": [
        "TASK 6\n",
        "\n",
        "1. Cast the values 0, 1 and None to booleans and print the results.\n",
        "2. Create a variable called x, and assign it None. Then, create another variable called my_boolean and assign it the value of bool(x)\n",
        "3. Print the type of my_boolean\n",
        "4. Try creating a variable called my_boolean and assign it the value of true. Did it work? Why?\n",
        "5. Create a variable called my_boolean and assign it the value of True\n",
        "6. Create a variable called my_string and assign it the value of \"\" (an empty string). Then, create another variable called my_boolean and assign it the value of bool(my_string).\n",
        "7. What is the value of my_boolean?"
      ],
      "metadata": {
        "id": "XcWWasx4bhP3"
      }
    },
    {
      "cell_type": "code",
      "source": [
        "uder=0\n",
        "floor=1\n",
        "cow=None\n",
        "print(bool(uder))\n",
        "print(bool(floor))\n",
        "print(bool(cow))\n",
        "#output:False, has returned false because empty value\n",
        "#output: True, has returned true because empty value\n",
        "#output: False, has returned false because empty value"
      ],
      "metadata": {
        "colab": {
          "base_uri": "https://localhost:8080/"
        },
        "id": "ub5EPFHUbPes",
        "outputId": "8e405084-6444-428c-cdfb-174637d21839"
      },
      "execution_count": 1,
      "outputs": [
        {
          "output_type": "stream",
          "name": "stdout",
          "text": [
            "False\n",
            "True\n",
            "False\n"
          ]
        }
      ]
    },
    {
      "cell_type": "code",
      "source": [
        "#Create a variable called x, and assign it None. Then, create another variable called my_boolean and assign it the value of bool(x)\n",
        "#Print the type of my_boolean\n",
        "\n",
        "\n",
        "x =None\n",
        "my_boolean = bool(x)\n",
        "print(my_boolean)\n",
        "\n",
        "#Try creating a variable called my_boolean and assign it the value of true. Did it work? Why?\n",
        "\n",
        "my_boolean = \"true\"\n",
        "print(my_boolean)\n",
        "my_boolean = True\n",
        "\n",
        "my_string = \"\"\n",
        "my_boolean = bool(my_string)\n",
        "print(my_boolean)\n",
        "\n",
        "\n",
        "\n",
        "#Create a variable called my_boolean and assign it the value of True\n",
        "#Create a variable called my_string and assign it the value of \"\" (an empty string).\n",
        "#Then, create another variable called my_boolean and assign it the value of bool(my_string).\n",
        "#What is the value of my_boolean?"
      ],
      "metadata": {
        "colab": {
          "base_uri": "https://localhost:8080/"
        },
        "id": "pX03_hELDYBA",
        "outputId": "45511b60-96d8-41c0-ef9a-5e0a807c9cf1"
      },
      "execution_count": 12,
      "outputs": [
        {
          "output_type": "stream",
          "name": "stdout",
          "text": [
            "False\n",
            "true\n",
            "False\n"
          ]
        }
      ]
    },
    {
      "cell_type": "markdown",
      "source": [
        "TASK 7\n",
        "1. Create a list of four elements with a different data type. Name it list_1.\n",
        "2. Now create a list with ten zeros, do it using the * operator. Name it list_2`.\n",
        "3. Nest list_1 and list_2 into a new list and name it list_3. So list_3 should look like this [list_1, list2].\n",
        "4. Access the fourth element of each list_1 and list_2 and store the elements in list_4. So list_4 should look like this [fourth element of list_1, fourth  element of list_2]."
      ],
      "metadata": {
        "id": "pD3PvhfmMsPA"
      }
    },
    {
      "cell_type": "code",
      "source": [
        "list_1 =[\"cat\",1, 2.45, True]\n",
        "print(list_1)\n",
        "list_2 =[0]\n",
        "repeated = list_2 * 10\n",
        "print(repeated)\n",
        "list_3 = list_1 +list_2\n",
        "print(list_3)\n",
        "\n",
        "\n",
        "list_4 = list_1[3]\n",
        "print(list_4)\n",
        "\n",
        "list_4 =list_2[-1]\n",
        "print(list_4)\n",
        "print(list_4)\n",
        "\n",
        "\n",
        "# numbers = [1, 2, 3]\n",
        "#4. Access the fourth element of each list_1 and list_2\n",
        "#and store the elements in list_4. So list_4 should look like this [fourth element of list_1, fourth  element of list_2].\n",
        "#repeated = numbers * 3\n",
        "#print(repeated)  # Output: [1, 2, 3, 1, 2, 3, 1, 2, 3]"
      ],
      "metadata": {
        "colab": {
          "base_uri": "https://localhost:8080/"
        },
        "id": "f2x6bqYqM9ef",
        "outputId": "4c281028-39d9-42a8-d4c3-d59b5d21de60"
      },
      "execution_count": 24,
      "outputs": [
        {
          "output_type": "stream",
          "name": "stdout",
          "text": [
            "['cat', 1, 2.45, True]\n",
            "[0, 0, 0, 0, 0, 0, 0, 0, 0, 0]\n",
            "['cat', 1, 2.45, True, 0]\n",
            "True\n",
            "0\n",
            "0\n"
          ]
        }
      ]
    },
    {
      "cell_type": "markdown",
      "source": [
        "TASK 7B\n",
        "1. Given the following lists my_list_1 = [1, 2, 3, 4] and my_list_2 = [5, 6, 7, 8], write a program that:\n",
        "\n",
        "2. Appends my_list_2 to my_list_1\n",
        "3. Print my_list_1 and my_list_2 to see what changed\n",
        "4. Extend my_list_1 with my_list_2\n",
        "5. Print my_list_1 and my_list_2 to see what changed"
      ],
      "metadata": {
        "id": "5nPo1xQNlcvb"
      }
    },
    {
      "cell_type": "code",
      "source": [
        "# %%\n",
        "\n",
        "my_list_1 = [1, 2, 3, 4]\n",
        "my_list_2 = [5, 6, 7, 8]\n",
        "my_list_1.append(my_list_2)\n",
        "print(my_list_1)\n",
        "my_list_1.extend(my_list_2)\n",
        "print(my_list_1)\n",
        "print(my_list_2)\n",
        "\n"
      ],
      "metadata": {
        "colab": {
          "base_uri": "https://localhost:8080/"
        },
        "id": "40e2yJ0uls5x",
        "outputId": "7a138578-c971-4bf0-a92f-db7042e778b8"
      },
      "execution_count": 31,
      "outputs": [
        {
          "output_type": "stream",
          "name": "stdout",
          "text": [
            "[1, 2, 3, 4, [5, 6, 7, 8]]\n",
            "[1, 2, 3, 4, [5, 6, 7, 8], 5, 6, 7, 8]\n",
            "[5, 6, 7, 8]\n"
          ]
        }
      ]
    },
    {
      "cell_type": "markdown",
      "source": [
        "TASK 8\n",
        "1. Create a variable called my_dict and assign it the value {\"key_1\": 1, \"key_2\": 2}\n",
        "2. Print the value of key_1\n",
        "3. Print the value of key_2\n",
        "3. What happens if you try to print the value of key_3?\n",
        "4. Print the keys of my_dict\n",
        "5. Print the values of my_dict\n",
        "6. Print the items of my_dict and assign it to a variable called my_items\n",
        "7. Print the type of my_items. What is it? A list or a tuple? Don't worry about not knowing what a tuple is, we will cover this in the next lesson. For this practical you just need to use the type() function to find out the time of my_items."
      ],
      "metadata": {
        "id": "wpsWEnVRu2fe"
      }
    },
    {
      "cell_type": "code",
      "source": [
        "my_dict = {\"key_1\": 1, \"key_2\": 2}\n",
        "print(my_dict['key_1'])\n",
        "print(my_dict['key_2'])\n",
        "# print(my_dict['key_3'])KeyError missing value\n",
        "print(my_dict.keys())\n",
        "print(my_dict.values())\n",
        "my_items =my_dict.items()\n",
        "print(my_items)\n",
        "print(type(my_items))\n",
        "\n",
        "\n",
        "\n"
      ],
      "metadata": {
        "colab": {
          "base_uri": "https://localhost:8080/"
        },
        "id": "RsXID-T9vWVB",
        "outputId": "32813192-dac9-457d-f73c-3285e54ea766"
      },
      "execution_count": 48,
      "outputs": [
        {
          "output_type": "stream",
          "name": "stdout",
          "text": [
            "1\n",
            "2\n",
            "dict_keys(['key_1', 'key_2'])\n",
            "dict_values([1, 2])\n",
            "dict_items([('key_1', 1), ('key_2', 2)])\n",
            "<class 'dict_items'>\n"
          ]
        }
      ]
    },
    {
      "cell_type": "markdown",
      "source": [
        "TASK 9\n",
        "1. Create a variable called my_dict and assign it the value {\"key_1\":  1, \"key_2\": 2}\n",
        "2. Add a new key called key_3 with the value 3 using indexing\n",
        "3. Add a new key called key_4 with the value 4 using the update() method"
      ],
      "metadata": {
        "id": "fwT2QZMb1WuT"
      }
    },
    {
      "cell_type": "code",
      "source": [
        "my_dict = {\"key_1\":  1, \"key_2\": 2}\n",
        "my_dict[\"key_3\"] = 3\n",
        "print(my_dict)\n",
        "dic_2 = {\"key_4\": 4}\n",
        "my_dict.update(dic_2)\n",
        "print(my_dict)"
      ],
      "metadata": {
        "colab": {
          "base_uri": "https://localhost:8080/"
        },
        "id": "nGFHmehV1epC",
        "outputId": "3cee17dd-6996-40e4-933d-9561c44d1fbe"
      },
      "execution_count": 51,
      "outputs": [
        {
          "output_type": "stream",
          "name": "stdout",
          "text": [
            "{'key_1': 1, 'key_2': 2, 'key_3': 3}\n",
            "{'key_1': 1, 'key_2': 2, 'key_3': 3, 'key_4': 4}\n"
          ]
        }
      ]
    },
    {
      "cell_type": "markdown",
      "source": [
        "TASK 10\n",
        "1. Create an empty tuple without Python's built-in function\n",
        "2. Create an empty tuple with Python's built-in function\n",
        "3. Create two tuples that contain three different data types\n",
        "4. Merge the two of the tuples you created using the + operator"
      ],
      "metadata": {
        "id": "6YpDgB2xOAhU"
      }
    },
    {
      "cell_type": "code",
      "source": [
        "dog = ()\n",
        "cat = tuple()\n",
        "print(dog,cat)\n",
        "carrot =('apple', 'banana', 'orange')\n",
        "space =(1,2,3)\n",
        "space_carrot = carrot + space\n",
        "print(space_carrot )"
      ],
      "metadata": {
        "colab": {
          "base_uri": "https://localhost:8080/"
        },
        "id": "2xtZXwoHOIxt",
        "outputId": "8e1dc57f-8d17-43f4-e4ee-9ff23905651f"
      },
      "execution_count": 53,
      "outputs": [
        {
          "output_type": "stream",
          "name": "stdout",
          "text": [
            "() ()\n",
            "('apple', 'banana', 'orange', 1, 2, 3)\n"
          ]
        }
      ]
    }
  ]
}