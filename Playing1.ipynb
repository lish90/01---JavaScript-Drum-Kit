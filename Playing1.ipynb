{
  "nbformat": 4,
  "nbformat_minor": 0,
  "metadata": {
    "colab": {
      "provenance": [],
      "authorship_tag": "ABX9TyNXtCIwepmC0/+XLsK49KDl",
      "include_colab_link": true
    },
    "kernelspec": {
      "name": "python3",
      "display_name": "Python 3"
    },
    "language_info": {
      "name": "python"
    }
  },
  "cells": [
    {
      "cell_type": "markdown",
      "metadata": {
        "id": "view-in-github",
        "colab_type": "text"
      },
      "source": [
        "<a href=\"https://colab.research.google.com/github/lish90/01---JavaScript-Drum-Kit/blob/master/Playing1.ipynb\" target=\"_parent\"><img src=\"https://colab.research.google.com/assets/colab-badge.svg\" alt=\"Open In Colab\"/></a>"
      ]
    },
    {
      "cell_type": "code",
      "execution_count": null,
      "metadata": {
        "id": "5XjnB0G3mk-C"
      },
      "outputs": [],
      "source": []
    },
    {
      "cell_type": "code",
      "source": [
        "print(\"hello world\")"
      ],
      "metadata": {
        "colab": {
          "base_uri": "https://localhost:8080/"
        },
        "id": "XAvJxouAnReC",
        "outputId": "b4afd193-97d5-4b21-d756-50c08bf8ea05"
      },
      "execution_count": 2,
      "outputs": [
        {
          "output_type": "stream",
          "name": "stdout",
          "text": [
            "hello world\n"
          ]
        }
      ]
    },
    {
      "cell_type": "markdown",
      "source": [
        "3. Variables - Practicals"
      ],
      "metadata": {
        "id": "ufQo-RQBnrS6"
      }
    },
    {
      "cell_type": "markdown",
      "source": [],
      "metadata": {
        "id": "hu0lOfwzny8E"
      }
    },
    {
      "cell_type": "markdown",
      "source": [
        "TASK\n",
        "\n",
        "\n",
        "Define a variable called my_variable and assign it the value 23\n",
        "Print the value of my_variable\n",
        "Write a new line of code that reassigns my_variable to have the value 98\n",
        "Print the value of my_variable again\n",
        "Notice that the value of my_variable has changed.\n"
      ],
      "metadata": {
        "id": "ayjdrnKOsnCt"
      }
    },
    {
      "cell_type": "code",
      "source": [
        "my_variable =23\n",
        "print(my_variable)\n",
        "my_variable = 98\n",
        "print(my_variable)"
      ],
      "metadata": {
        "colab": {
          "base_uri": "https://localhost:8080/"
        },
        "id": "MfjIjmjzn2Z8",
        "outputId": "568bc6be-2fd0-4f00-a44c-9eb142f93660"
      },
      "execution_count": 3,
      "outputs": [
        {
          "output_type": "stream",
          "name": "stdout",
          "text": [
            "23\n",
            "98\n"
          ]
        }
      ]
    },
    {
      "cell_type": "markdown",
      "source": [
        "TASK 2\n",
        "\n",
        "Define the the following variables num = 23, text_num = \"57\" and decimal_num = 98.3\n",
        "Print the types of each variable (hint: use the type() function)"
      ],
      "metadata": {
        "id": "hnDk7ELft56J"
      }
    },
    {
      "cell_type": "code",
      "source": [],
      "metadata": {
        "id": "rrIhAibsuNgC"
      },
      "execution_count": 1,
      "outputs": []
    }
  ]
}