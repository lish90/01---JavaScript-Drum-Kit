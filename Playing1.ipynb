{
  "nbformat": 4,
  "nbformat_minor": 0,
  "metadata": {
    "colab": {
      "provenance": [],
      "authorship_tag": "ABX9TyOMznqdC+yXcIXSPQ+N+t6G",
      "include_colab_link": true
    },
    "kernelspec": {
      "name": "python3",
      "display_name": "Python 3"
    },
    "language_info": {
      "name": "python"
    }
  },
  "cells": [
    {
      "cell_type": "markdown",
      "metadata": {
        "id": "view-in-github",
        "colab_type": "text"
      },
      "source": [
        "<a href=\"https://colab.research.google.com/github/lish90/data-engineering-practice/blob/update_1/Playing1.ipynb\" target=\"_parent\"><img src=\"https://colab.research.google.com/assets/colab-badge.svg\" alt=\"Open In Colab\"/></a>"
      ]
    },
    {
      "cell_type": "code",
      "execution_count": null,
      "metadata": {
        "id": "5XjnB0G3mk-C"
      },
      "outputs": [],
      "source": []
    },
    {
      "cell_type": "code",
      "source": [
        "print(\"hello world\")"
      ],
      "metadata": {
        "colab": {
          "base_uri": "https://localhost:8080/"
        },
        "id": "XAvJxouAnReC",
        "outputId": "b4afd193-97d5-4b21-d756-50c08bf8ea05"
      },
      "execution_count": 2,
      "outputs": [
        {
          "output_type": "stream",
          "name": "stdout",
          "text": [
            "hello world\n"
          ]
        }
      ]
    },
    {
      "cell_type": "markdown",
      "source": [
        "3. Variables - Practicals"
      ],
      "metadata": {
        "id": "ufQo-RQBnrS6"
      }
    },
    {
      "cell_type": "markdown",
      "source": [],
      "metadata": {
        "id": "hu0lOfwzny8E"
      }
    },
    {
      "cell_type": "markdown",
      "source": [
        "TASK\n",
        "\n",
        "\n",
        "Define a variable called my_variable and assign it the value 23\n",
        "Print the value of my_variable\n",
        "Write a new line of code that reassigns my_variable to have the value 98\n",
        "Print the value of my_variable again\n",
        "Notice that the value of my_variable has changed.\n"
      ],
      "metadata": {
        "id": "ayjdrnKOsnCt"
      }
    },
    {
      "cell_type": "code",
      "source": [
        "my_variable =23\n",
        "print(my_variable)\n",
        "my_variable = 98\n",
        "print(my_variable)"
      ],
      "metadata": {
        "colab": {
          "base_uri": "https://localhost:8080/"
        },
        "id": "MfjIjmjzn2Z8",
        "outputId": "568bc6be-2fd0-4f00-a44c-9eb142f93660"
      },
      "execution_count": 3,
      "outputs": [
        {
          "output_type": "stream",
          "name": "stdout",
          "text": [
            "23\n",
            "98\n"
          ]
        }
      ]
    },
    {
      "cell_type": "markdown",
      "source": [
        "TASK 2\n",
        "\n",
        "Define the the following variables num = 23, text_num = \"57\" and decimal_num = 98.3\n",
        "Print the types of each variable (hint: use the type() function)"
      ],
      "metadata": {
        "id": "hnDk7ELft56J"
      }
    },
    {
      "cell_type": "code",
      "source": [
        "num = 23\n",
        "text_num =\"57\"\n",
        "decimal_num = 98.3\n",
        "print(type(num))\n",
        "print(type(text_num))\n",
        "print(type(decimal_num))"
      ],
      "metadata": {
        "colab": {
          "base_uri": "https://localhost:8080/"
        },
        "id": "rrIhAibsuNgC",
        "outputId": "fdb0fc3f-79a8-48c0-ad05-f0876e11d2ef"
      },
      "execution_count": 2,
      "outputs": [
        {
          "output_type": "stream",
          "name": "stdout",
          "text": [
            "<class 'int'>\n",
            "<class 'str'>\n",
            "<class 'float'>\n"
          ]
        }
      ]
    },
    {
      "cell_type": "markdown",
      "source": [
        "TASK 3 Comments - Practicals"
      ],
      "metadata": {
        "id": "v4k0Ls87ARU_"
      }
    },
    {
      "cell_type": "code",
      "source": [
        "# This is a comment"
      ],
      "metadata": {
        "id": "wh3GJB5HAWog"
      },
      "execution_count": 1,
      "outputs": []
    },
    {
      "cell_type": "code",
      "source": [
        "# %%\n",
        "print(\"cats dont work\")\n",
        "\n",
        "#  %%"
      ],
      "metadata": {
        "colab": {
          "base_uri": "https://localhost:8080/"
        },
        "id": "tGyl2jckAW29",
        "outputId": "f5564a85-85b5-4818-c807-70a3e1292e94"
      },
      "execution_count": 2,
      "outputs": [
        {
          "output_type": "stream",
          "name": "stdout",
          "text": [
            "cats dont work\n"
          ]
        }
      ]
    },
    {
      "cell_type": "code",
      "source": [
        "result = 15//3\n",
        "print(result)"
      ],
      "metadata": {
        "colab": {
          "base_uri": "https://localhost:8080/"
        },
        "id": "uDtWFDrXCbaE",
        "outputId": "9df7e5ea-7586-434e-9fac-75cfbcfb19c0"
      },
      "execution_count": 3,
      "outputs": [
        {
          "output_type": "stream",
          "name": "stdout",
          "text": [
            "5\n"
          ]
        }
      ]
    },
    {
      "cell_type": "code",
      "source": [
        "# reminder\n",
        "\n",
        "17 % 3"
      ],
      "metadata": {
        "colab": {
          "base_uri": "https://localhost:8080/"
        },
        "id": "LMqnl_O1Cxm8",
        "outputId": "23b7323d-ae13-4cbf-e19b-cc430e499894"
      },
      "execution_count": 4,
      "outputs": [
        {
          "output_type": "execute_result",
          "data": {
            "text/plain": [
              "2"
            ]
          },
          "metadata": {},
          "execution_count": 4
        }
      ]
    },
    {
      "cell_type": "markdown",
      "source": [
        "TASK 4 - Number\n",
        "\n",
        "\n",
        "Define a variable called a and assign it the value 5\n",
        "Define a variable called b and assign it the value 2\n",
        "Print the result of a + b\n",
        "Print the result of a - b\n",
        "Print the result of a * b\n",
        "Print the result of a / b"
      ],
      "metadata": {
        "id": "KHTxxI-iHNVq"
      }
    },
    {
      "cell_type": "code",
      "source": [
        "a = 5\n",
        "b = 2\n",
        "print(a + b)\n",
        "print( a-b)\n",
        "print( a*b)\n",
        "print( a/b)"
      ],
      "metadata": {
        "colab": {
          "base_uri": "https://localhost:8080/"
        },
        "id": "rAaMw-XdHVrh",
        "outputId": "5cc39328-870d-4cd5-9310-b7b362ec4473"
      },
      "execution_count": 5,
      "outputs": [
        {
          "output_type": "stream",
          "name": "stdout",
          "text": [
            "7\n",
            "3\n",
            "10\n",
            "2.5\n"
          ]
        }
      ]
    },
    {
      "cell_type": "markdown",
      "source": [
        "TASK 4b - Number\n",
        "\n",
        "* Define a variable called a and assign it the value 5\n",
        "* Define a variable called b and assign it the value 2\n",
        "* Print the type of a\n",
        "* Print the type of b\n",
        "* Define a variable called c and assign it the value of a / b\n",
        "* Print the type of c\n",
        "* What happened?\n",
        "* Define a variable called d and assign it the value of a // b\n",
        "* Print the type of d\n",
        "* What happened?\n"
      ],
      "metadata": {
        "id": "uBpNNjWVHhlt"
      }
    },
    {
      "cell_type": "code",
      "source": [
        "a = 5\n",
        "b = 2\n",
        "print(a)\n",
        "print(b)\n",
        "c = a/b\n",
        "print(c)\n",
        "# resulted in a float\n",
        "d = a //b\n",
        "print(d)\n",
        "# gave how time 2 goes into 5"
      ],
      "metadata": {
        "colab": {
          "base_uri": "https://localhost:8080/"
        },
        "id": "h7CTQn09Hkl8",
        "outputId": "1badbf55-7d7f-4e4f-d261-f7bb44b47efe"
      },
      "execution_count": 6,
      "outputs": [
        {
          "output_type": "stream",
          "name": "stdout",
          "text": [
            "5\n",
            "2\n",
            "2.5\n",
            "2\n"
          ]
        }
      ]
    },
    {
      "cell_type": "markdown",
      "source": [
        "TASK 5 Strings - Practicals\n",
        "\n",
        "\n",
        "1.   Create a variable called my_string and assign it the value \"Hello World\"\n",
        "2. Print the value of my_string\n",
        "3. Print the type of my_string.\n",
        "4. Create a variable called my_string and assign it the value \"Hello \\nWorld\".\n",
        "5. Print the value of my_string.\n",
        "6. Create a variable called my_string and assign it the value \"Hello \\tWorld\".\n",
        "7. Print the value of my_string.\n",
        "\n"
      ],
      "metadata": {
        "id": "ITI_NfdASyaO"
      }
    },
    {
      "cell_type": "code",
      "source": [
        "my_string = \"Hello World\"\n",
        "print(my_string)\n",
        "print(type(my_string))\n",
        "my_string = \"Hello \\nWorld\"\n",
        "print(my_string)\n",
        "my_string = \"Hello \\tWorld\"\n",
        "print(my_string)"
      ],
      "metadata": {
        "colab": {
          "base_uri": "https://localhost:8080/"
        },
        "id": "v5t1WRKsTZnl",
        "outputId": "9f076228-2933-48a4-cf94-7fbc82bf88f6"
      },
      "execution_count": 7,
      "outputs": [
        {
          "output_type": "stream",
          "name": "stdout",
          "text": [
            "Hello World\n",
            "<class 'str'>\n",
            "Hello \n",
            "World\n",
            "Hello \tWorld\n"
          ]
        }
      ]
    },
    {
      "cell_type": "markdown",
      "source": [
        "TASK 5B\n",
        "1. Create a variable called my_string and assign it the value \"Hello \"World\", including the \" quotes around World inside the string definition\n",
        "2. Create a variable called my_string and assign it the value \"Hello 'World'\". Then print it. Did it work?\n",
        "3. Create a variable called my_string and assign it the value \"Hello \\\"World\"\""
      ],
      "metadata": {
        "id": "aTIVXbRPU8Fu"
      }
    },
    {
      "cell_type": "code",
      "source": [
        "my_string  = \"Hello \\\"World\"\n",
        "print(my_string)\n",
        "my_string = \"Hello 'World'\"\n",
        "# using single quote\n",
        "print(my_string)\n",
        "my_string = \"Hello \\\"World\\\"\"\n",
        "print(my_string)"
      ],
      "metadata": {
        "colab": {
          "base_uri": "https://localhost:8080/"
        },
        "id": "Ijmnhz9AVL4R",
        "outputId": "652d8abe-b86b-4323-c943-1dde9b61dcad"
      },
      "execution_count": 12,
      "outputs": [
        {
          "output_type": "stream",
          "name": "stdout",
          "text": [
            "Hello \"World\n",
            "Hello 'World'\n",
            "Hello \"World\"\n"
          ]
        }
      ]
    },
    {
      "cell_type": "markdown",
      "source": [
        "TASK 6\n",
        "\n",
        "1. Cast the values 0, 1 and None to booleans and print the results.\n",
        "2. Create a variable called x, and assign it None. Then, create another variable called my_boolean and assign it the value of bool(x)\n",
        "3. Print the type of my_boolean\n",
        "4. Try creating a variable called my_boolean and assign it the value of true. Did it work? Why?\n",
        "5. Create a variable called my_boolean and assign it the value of True\n",
        "6. Create a variable called my_string and assign it the value of \"\" (an empty string). Then, create another variable called my_boolean and assign it the value of bool(my_string).\n",
        "7. What is the value of my_boolean?"
      ],
      "metadata": {
        "id": "XcWWasx4bhP3"
      }
    },
    {
      "cell_type": "code",
      "source": [],
      "metadata": {
        "id": "ub5EPFHUbPes"
      },
      "execution_count": null,
      "outputs": []
    }
  ]
}